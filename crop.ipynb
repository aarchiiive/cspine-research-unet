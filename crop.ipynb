{
 "cells": [
  {
   "cell_type": "code",
   "execution_count": 16,
   "metadata": {},
   "outputs": [
    {
     "name": "stdout",
     "output_type": "stream",
     "text": [
      "3_01.jpg\n",
      "3_02.jpg\n",
      "4_01.jpg\n",
      "4_02.jpg\n",
      "5_01.jpg\n",
      "5_02.jpg\n",
      "6_01.jpg\n",
      "6_02.jpg\n",
      "8_01.jpg\n",
      "8_02.jpg\n"
     ]
    }
   ],
   "source": [
    "import cv2\n",
    "import os, glob\n",
    "import numpy as np\n",
    "import json\n",
    "import shutil\n",
    "from tqdm import tqdm\n",
    "from pathlib import Path\n",
    "import matplotlib.pyplot as plt\n",
    "%matplotlib inline\n",
    " \n",
    "image_path = \"data/temp\"\n",
    "point_path = \"data/json\"\n",
    "save = \"data/masks\"\n",
    " \n",
    "for p in os.listdir(point_path):\n",
    "    masks = []\n",
    "    with open(os.path.join(point_path, p), 'r') as f:\n",
    "        data = json.load(f)\n",
    "        img_name = p.split(\".\")[0]+\".jpg\"\n",
    "        mask_name = p.split(\".\")[0]+\"_mask.jpg\"\n",
    "        if not os.path.isfile(os.path.join(save, mask_name)):\n",
    "            img = cv2.imread(os.path.join(image_path, img_name))\n",
    "            cv2.imwrite(os.path.join(\"data/imgs\", img_name), img)\n",
    "            \n",
    "            for d in data[\"shapes\"]:\n",
    "                # data = data[\"shapes\"][0][\"points\"]\n",
    "                data = d[\"points\"]\n",
    "                pts = np.array(data)\n",
    "                pts = pts.astype(np.int32)\n",
    "    \n",
    "                mask = np.zeros(img.shape[:2], np.uint8)\n",
    "                cv2.drawContours(mask, [pts], -1, (255, 255, 255), -1, cv2.LINE_AA)\n",
    "                dst = cv2.bitwise_and(img, img, mask=mask)\n",
    "    \n",
    "                bg = np.zeros_like(img, np.uint8)*255\n",
    "                # cv2.bitwise_not(bg, bg, mask=mask)\n",
    "                res = bg + dst\n",
    "                _, res = cv2.threshold(res, 1, 255, cv2.THRESH_BINARY)\n",
    "                \n",
    "                masks.append(res)\n",
    "                \n",
    "                if len(masks) > 1: masks[0] = cv2.bitwise_xor(masks[0], masks[-1])\n",
    "                #     plt.subplot(1, 2, 1)\n",
    "                #     plt.imshow(masks[0])\n",
    "                #     plt.subplot(1, 2, 2)\n",
    "                # plt.imshow(res)\n",
    "                # plt.show()\n",
    "            \n",
    "            _, masks[0] = cv2.threshold(masks[0], 0, 255, cv2.THRESH_BINARY)\n",
    "            cv2.imwrite(os.path.join(save, mask_name), masks[0])"
   ]
  }
 ],
 "metadata": {
  "kernelspec": {
   "display_name": "Python 3",
   "language": "python",
   "name": "python3"
  },
  "language_info": {
   "codemirror_mode": {
    "name": "ipython",
    "version": 3
   },
   "file_extension": ".py",
   "mimetype": "text/x-python",
   "name": "python",
   "nbconvert_exporter": "python",
   "pygments_lexer": "ipython3",
   "version": "3.9.10"
  },
  "orig_nbformat": 4,
  "vscode": {
   "interpreter": {
    "hash": "30c983a9a2bf58aab2674518fa6edd0aed73db515246bb8cb8732ffd598c3c26"
   }
  }
 },
 "nbformat": 4,
 "nbformat_minor": 2
}
