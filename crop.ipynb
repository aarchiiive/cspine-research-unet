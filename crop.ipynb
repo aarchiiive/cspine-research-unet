{
 "cells": [
  {
   "cell_type": "code",
   "execution_count": 2,
   "metadata": {},
   "outputs": [],
   "source": [
    "import cv2\n",
    "import os, glob\n",
    "import numpy as np\n",
    "import json\n",
    "import shutil\n",
    "from tqdm import tqdm\n",
    "from pathlib import Path\n",
    "import matplotlib.pyplot as plt\n",
    "%matplotlib inline\n",
    " \n",
    "image_path = \"data/temp\" # 원본 이미지의 경로\n",
    "point_path = \"data/json\" # label의 경로\n",
    "save = \"data/masks\" # mask를 저장할 경로\n",
    " \n",
    "\"\"\"\n",
    "폴더를 바꿔도 크게 상관은 없으나 파일 이름은 아래 형식과 같아야 합니다.\n",
    "00001은 예시입니다.\n",
    "원본 이미지 : 00001.jpg\n",
    "mask 이미지: 00001_mask.jpg\n",
    "\"\"\"\n",
    "for p in os.listdir(point_path):\n",
    "    masks = []\n",
    "    with open(os.path.join(point_path, p), 'r') as f:\n",
    "        data = json.load(f) # json 파일 읽어오기\n",
    "        img_name = p.split(\".\")[0]+\".jpg\" # 원본 이미지의 파일 이름\n",
    "        mask_name = p.split(\".\")[0]+\"_mask.jpg\" # mask의 파일 이름\n",
    "\n",
    "        if not os.path.isfile(os.path.join(save, mask_name)):\n",
    "            img = cv2.imread(os.path.join(image_path, img_name))\n",
    "            cv2.imwrite(os.path.join(\"data/imgs\", img_name), img)\n",
    "            \n",
    "            for d in data[\"shapes\"]:\n",
    "                data = d[\"points\"] # 도형 하나씩 불러오기\n",
    "                pts = np.array(data)\n",
    "                pts = pts.astype(np.int32)\n",
    "    \n",
    "                mask = np.zeros(img.shape[:2], np.uint8) # 검은색 배경 \n",
    "                cv2.drawContours(mask, [pts], -1, (255, 255, 255), -1, cv2.LINE_AA) # 사진위에 영역을 그리기\n",
    "                dst = cv2.bitwise_and(img, img, mask=mask) # bitwise 연산(and)\n",
    "    \n",
    "                bg = np.zeros_like(img, np.uint8)*255\n",
    "                res = bg + dst\n",
    "                _, res = cv2.threshold(res, 1, 255, cv2.THRESH_BINARY)\n",
    "                \n",
    "                masks.append(res)\n",
    "                \n",
    "                if len(masks) > 1: masks[0] = cv2.bitwise_xor(masks[0], masks[-1])\n",
    "\n",
    "                #     plt.subplot(1, 2, 1)\n",
    "                #     plt.imshow(masks[0])\n",
    "                #     plt.subplot(1, 2, 2)\n",
    "                # plt.imshow(res)\n",
    "                # plt.show()\n",
    "            \n",
    "            # mask[0]은 경추 전체를 덮는 도형 -> 나머지 도형들을 하나씩 덮어쓰는 형태\n",
    "\n",
    "            _, masks[0] = cv2.threshold(masks[0], 0, 255, cv2.THRESH_BINARY)\n",
    "            cv2.imwrite(os.path.join(save, mask_name), masks[0])"
   ]
  }
 ],
 "metadata": {
  "kernelspec": {
   "display_name": "Python 3.10.8 ('research')",
   "language": "python",
   "name": "python3"
  },
  "language_info": {
   "codemirror_mode": {
    "name": "ipython",
    "version": 3
   },
   "file_extension": ".py",
   "mimetype": "text/x-python",
   "name": "python",
   "nbconvert_exporter": "python",
   "pygments_lexer": "ipython3",
   "version": "3.10.8"
  },
  "orig_nbformat": 4,
  "vscode": {
   "interpreter": {
    "hash": "3756f8c3008452d9a3141ae1561628d47db756095263af740f169e96907e3026"
   }
  }
 },
 "nbformat": 4,
 "nbformat_minor": 2
}
