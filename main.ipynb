{
 "cells": [
  {
   "cell_type": "code",
   "execution_count": null,
   "metadata": {},
   "outputs": [],
   "source": [
    "!git clone https://github.com/aarchiiive/cspine-research-unet.git\n",
    "!pip install -r requirements.txt\n",
    "%cd cspine-research-unet"
   ]
  },
  {
   "cell_type": "code",
   "execution_count": null,
   "metadata": {},
   "outputs": [],
   "source": [
    "!wandb login # 자신의 API 키 입력하기 ex. !wandb login eiwj354356438043 API key 확인 -> https://wandb.ai/authorize"
   ]
  },
  {
   "cell_type": "markdown",
   "metadata": {},
   "source": [
    "#### 학습은 아래 방법 두가지 모두 가능합니다. \n",
    "#### 첫번째 방법은 train.py를 직접 에디터로 수정해야 합니다.\n",
    "#### 수정은 두번째 방법이 간단합니다."
   ]
  },
  {
   "cell_type": "code",
   "execution_count": null,
   "metadata": {},
   "outputs": [],
   "source": [
    "# 학습 시작하기\n",
    "!python3 train.py"
   ]
  },
  {
   "cell_type": "code",
   "execution_count": null,
   "metadata": {},
   "outputs": [],
   "source": [
    "from train import train # 학습할 함수 불러오기\n",
    "\n",
    "\"\"\"\n",
    "opt : opimizer 이름 rmsprop, adam\n",
    "weight_decay : overfitting을 막기 위해 넣는 parameter -> L2 regularization 참고\n",
    "export : 이진화할 방법 -> 모델로부터 얻은 확률을 이용해 검은색/흰색 둘중의 하나의 색으로만 픽셀을 변환\n",
    "\"\"\"\n",
    "\n",
    "train(opt=\"rmsprop\", weight_decay=1e-8, export=\"sigmoid\")\n",
    "train(opt=\"rmsprop\", weight_decay=1e-7, export=\"sigmoid\")\n",
    "train(opt=\"rmsprop\", weight_decay=1e-6, export=\"sigmoid\")\n",
    "train(opt=\"rmsprop\", weight_decay=1e-8, export=\"mean\")\n",
    "train(opt=\"rmsprop\", weight_decay=1e-7, export=\"mean\")\n",
    "train(opt=\"rmsprop\", weight_decay=1e-6, export=\"mean\")\n",
    "\n",
    "train(opt=\"adam\", weight_decay=1e-8, export=\"sigmoid\")\n",
    "train(opt=\"adam\", weight_decay=1e-7, export=\"sigmoid\")\n",
    "train(opt=\"adam\", weight_decay=1e-6, export=\"sigmoid\")\n",
    "train(opt=\"adam\", weight_decay=1e-8, export=\"mean\")\n",
    "train(opt=\"adam\", weight_decay=1e-7, export=\"mean\")\n",
    "train(opt=\"adam\", weight_decay=1e-6, export=\"mean\")"
   ]
  }
 ],
 "metadata": {
  "kernelspec": {
   "display_name": "Python 3.10.8 ('research')",
   "language": "python",
   "name": "python3"
  },
  "language_info": {
   "name": "python",
   "version": "3.10.8"
  },
  "orig_nbformat": 4,
  "vscode": {
   "interpreter": {
    "hash": "3756f8c3008452d9a3141ae1561628d47db756095263af740f169e96907e3026"
   }
  }
 },
 "nbformat": 4,
 "nbformat_minor": 2
}
